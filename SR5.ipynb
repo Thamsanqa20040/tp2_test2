{
 "cells": [
  {
   "cell_type": "markdown",
   "id": "159cd6e9-9c85-4fcc-8328-852abab3535d",
   "metadata": {},
   "source": [
    "For linear search\n",
    "\n",
    "In the Big O notation the time complecity of the linear search algorithm is O(n). So here n is our number of the elements in the list.\n",
    "\n",
    "So we have two complexity\n",
    "\n",
    "1.Time Complexity: O(n)\n",
    "2.Space Complexity: O(1)\n",
    "\n",
    "For linear search \n",
    "\n",
    "Best case snenario (O(1)): this time complexity occurs when the target value is found at the first position of the list. So the algorithm is needed to make one comparison.\n",
    "\n",
    "\n",
    "Worst case scenario (O(n)): So this happens when the tagert value is not present in the list or loacted at the last position. The algorithm has to compare the target value with all (n) elements in the list.\n",
    "\n",
    "\n",
    "Average case scenarion: The target value might be found somewhere in the middle of the list, state that the aligorithm would need to check approximately half of the elements."
   ]
  },
  {
   "cell_type": "code",
   "execution_count": null,
   "id": "aa626792-d817-4aff-95e2-02cc5cdf445b",
   "metadata": {},
   "outputs": [],
   "source": []
  }
 ],
 "metadata": {
  "kernelspec": {
   "display_name": "Python 3 (ipykernel)",
   "language": "python",
   "name": "python3"
  },
  "language_info": {
   "codemirror_mode": {
    "name": "ipython",
    "version": 3
   },
   "file_extension": ".py",
   "mimetype": "text/x-python",
   "name": "python",
   "nbconvert_exporter": "python",
   "pygments_lexer": "ipython3",
   "version": "3.12.3"
  }
 },
 "nbformat": 4,
 "nbformat_minor": 5
}
