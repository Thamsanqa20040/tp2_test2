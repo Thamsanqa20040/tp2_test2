{
 "cells": [
  {
   "cell_type": "markdown",
   "id": "0e5eb148-93c1-4904-89ee-d8711cd126cf",
   "metadata": {},
   "source": [
    "Binary search is faster and more efficient for large datasets in internal tables. \n",
    "It is fast beacuase it is used in a sorted array or list by repeatedly dividing the search interval in half.\n",
    "The idea os binary search is to use the information that the array is sorted and reduce the tiime cmplexity to 0(logN)\n",
    "\n",
    "It works by  repeatedly diving the search interval in half until the target value found or the interval is empty.\n",
    "\n",
    "the search interval is halved by comparing the tagert element with themiddle value of the search space.\n",
    "\n",
    "The data structure must be sorted \n",
    "\n",
    "Access toany element of the data structure takes constant time.\n",
    "\n",
    "compare the middle element of the search space with the key.\n",
    "\n",
    "\n",
    "if the key is found ata middle element the process is terminated."
   ]
  },
  {
   "cell_type": "code",
   "execution_count": 99,
   "id": "0dd774f0-679a-45cb-88be-37627e15eae2",
   "metadata": {},
   "outputs": [],
   "source": [
    "import pandas as pd"
   ]
  },
  {
   "cell_type": "code",
   "execution_count": 100,
   "id": "b09887a0-78f8-4265-9d06-8f4ef9237312",
   "metadata": {},
   "outputs": [],
   "source": [
    "\n",
    "sihle = pd.read_csv(\"C:\\\\Users\\\\admin\\\\Downloads\\\\Informal_Settlement_Programme_-1898186875815614491.csv\")"
   ]
  },
  {
   "cell_type": "code",
   "execution_count": 101,
   "id": "5907409e-00f9-46cc-ae0d-2c127f292da4",
   "metadata": {},
   "outputs": [
    {
     "name": "stdout",
     "output_type": "stream",
     "text": [
      "OBJECTID           int64\n",
      "NAME_OF_SE        object\n",
      "ALT_NAME          object\n",
      "STREETNAME        object\n",
      "WARD_S            object\n",
      "PLANNING_U        object\n",
      "LATITUDE          object\n",
      "LONGITUDE         object\n",
      "REGION            object\n",
      "WATER_SUPP        object\n",
      "SANITATION        object\n",
      "REFUSE            object\n",
      "ELECTRIC_2        object\n",
      "UNIREFCODE        object\n",
      "EST_HHC            int64\n",
      "NUSP_CAT          object\n",
      "Shape__Area      float64\n",
      "Shape__Length    float64\n",
      "dtype: object\n",
      "Index(['OBJECTID', 'NAME_OF_SE', 'ALT_NAME', 'STREETNAME', 'WARD_S',\n",
      "       'PLANNING_U', 'LATITUDE', 'LONGITUDE', 'REGION', 'WATER_SUPP',\n",
      "       'SANITATION', 'REFUSE', 'ELECTRIC_2', 'UNIREFCODE', 'EST_HHC',\n",
      "       'NUSP_CAT', 'Shape__Area', 'Shape__Length'],\n",
      "      dtype='object')\n"
     ]
    }
   ],
   "source": [
    "\n",
    "print(sihle.dtypes)\n",
    "print(sihle.columns)"
   ]
  },
  {
   "cell_type": "code",
   "execution_count": 102,
   "id": "c8903753-c800-44b4-8cf4-b5ec3569f523",
   "metadata": {},
   "outputs": [
    {
     "name": "stdout",
     "output_type": "stream",
     "text": [
      "Linear Search: Element '1000' found at index 411\n"
     ]
    }
   ],
   "source": [
    "\n",
    "def linear_search(Thami,target_value):\n",
    "    for i in  range(len(Thami)):\n",
    "        if sihle['EST_HHC'][i] == target_value:\n",
    "                       return i\n",
    "    return -1\n",
    "      \n",
    "       \n",
    "    \n",
    "\n",
    "# Example usage\n",
    "Thami = sihle['EST_HHC']\n",
    "\n",
    "target_value = 1000  \n",
    "\n",
    "result = linear_search(Thami, target_value)\n",
    "\n",
    "if result != -1:\n",
    "     print(f\"Linear Search: Element '{target_value}' found at index {result}\")\n",
    "else:\n",
    "    print(f\"Linear Search: Element '{target_value}' not found in the dataset\")\n",
    "\n"
   ]
  },
  {
   "cell_type": "code",
   "execution_count": 103,
   "id": "4d4aad37-6baa-4f1b-97ea-879b536e477c",
   "metadata": {},
   "outputs": [
    {
     "name": "stdout",
     "output_type": "stream",
     "text": [
      "16 The target value in the list is at index  None\n"
     ]
    }
   ],
   "source": [
    "def binary_Search(Thami,target_value):\n",
    "    start_index=0\n",
    "    end_index=len(Thami)-1\n",
    "    while start_index<=end_index:\n",
    "        median=start_index+(end_index-start_index)//2\n",
    "        median_value=Thami[median]\n",
    "        if median_value==target_value:\n",
    "            return median\n",
    "        elif target_value<median_value:\n",
    "            end_index=median-1\n",
    "        else:\n",
    "            start_index=median+1\n",
    "    \n",
    "\n",
    "Thami=sihle[\"EST_HHC\"]\n",
    "#my_list.sort()\n",
    "target_value=16\n",
    "result= binary_Search(Thami,target_value)\n",
    "print(target_value, \"The target value in the list is at index \",result)"
   ]
  },
  {
   "cell_type": "code",
   "execution_count": null,
   "id": "71d7ed2d-227b-4c51-9af5-59f262a13113",
   "metadata": {},
   "outputs": [],
   "source": []
  }
 ],
 "metadata": {
  "kernelspec": {
   "display_name": "Python 3 (ipykernel)",
   "language": "python",
   "name": "python3"
  },
  "language_info": {
   "codemirror_mode": {
    "name": "ipython",
    "version": 3
   },
   "file_extension": ".py",
   "mimetype": "text/x-python",
   "name": "python",
   "nbconvert_exporter": "python",
   "pygments_lexer": "ipython3",
   "version": "3.12.3"
  }
 },
 "nbformat": 4,
 "nbformat_minor": 5
}
